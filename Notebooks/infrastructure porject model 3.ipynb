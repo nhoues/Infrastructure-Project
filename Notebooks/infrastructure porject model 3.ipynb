{
  "nbformat": 4,
  "nbformat_minor": 0,
  "metadata": {
    "colab": {
      "name": "chicago.ipynb",
      "provenance": []
    },
    "kernelspec": {
      "name": "python3",
      "display_name": "Python 3"
    },
    "accelerator": "TPU"
  },
  "cells": [
    {
      "cell_type": "code",
      "metadata": {
        "id": "UcT8RzRPA74o",
        "colab_type": "code",
        "outputId": "2f3f183e-7fc6-4251-c12a-cdc579b33c94",
        "colab": {
          "base_uri": "https://localhost:8080/",
          "height": 124
        }
      },
      "source": [
        "from google.colab import drive\n",
        "drive.mount('/content/drive')"
      ],
      "execution_count": 4,
      "outputs": [
        {
          "output_type": "stream",
          "text": [
            "Go to this URL in a browser: https://accounts.google.com/o/oauth2/auth?client_id=947318989803-6bn6qk8qdgf4n4g3pfee6491hc0brc4i.apps.googleusercontent.com&redirect_uri=urn%3aietf%3awg%3aoauth%3a2.0%3aoob&response_type=code&scope=email%20https%3a%2f%2fwww.googleapis.com%2fauth%2fdocs.test%20https%3a%2f%2fwww.googleapis.com%2fauth%2fdrive%20https%3a%2f%2fwww.googleapis.com%2fauth%2fdrive.photos.readonly%20https%3a%2f%2fwww.googleapis.com%2fauth%2fpeopleapi.readonly\n",
            "\n",
            "Enter your authorization code:\n",
            "··········\n",
            "Mounted at /content/drive\n"
          ],
          "name": "stdout"
        }
      ]
    },
    {
      "cell_type": "code",
      "metadata": {
        "id": "KFFQbgolBDrb",
        "colab_type": "code",
        "colab": {
          "base_uri": "https://localhost:8080/",
          "height": 52
        },
        "outputId": "9fedcebf-6743-4a47-de8e-5e4b85daa57e"
      },
      "source": [
        "import pandas as pd\n",
        "import numpy as np\n",
        "import matplotlib.pyplot as plt\n",
        "import seaborn as sns  #advanced visualization library\n",
        "import requests, zipfile, io\n",
        "import warnings\n",
        "warnings.filterwarnings('ignore')"
      ],
      "execution_count": 5,
      "outputs": [
        {
          "output_type": "stream",
          "text": [
            "/usr/local/lib/python3.6/dist-packages/statsmodels/tools/_testing.py:19: FutureWarning: pandas.util.testing is deprecated. Use the functions in the public API at pandas.testing instead.\n",
            "  import pandas.util.testing as tm\n"
          ],
          "name": "stderr"
        }
      ]
    },
    {
      "cell_type": "code",
      "metadata": {
        "id": "HkfEpHRmE7xG",
        "colab_type": "code",
        "colab": {
          "base_uri": "https://localhost:8080/",
          "height": 34
        },
        "outputId": "88263906-ca1a-4041-bd3f-22dfa2a88552"
      },
      "source": [
        "import math\n",
        "from keras.models import Sequential\n",
        "from keras.layers import Dense\n",
        "from keras.layers import LSTM\n",
        "from sklearn.preprocessing import MinMaxScaler\n",
        "from sklearn.metrics import mean_squared_error"
      ],
      "execution_count": 6,
      "outputs": [
        {
          "output_type": "stream",
          "text": [
            "Using TensorFlow backend.\n"
          ],
          "name": "stderr"
        }
      ]
    },
    {
      "cell_type": "code",
      "metadata": {
        "id": "sFz2gCNcBJsO",
        "colab_type": "code",
        "colab": {}
      },
      "source": [
        "chicago=pd.read_csv(\"/content/drive/My Drive/chicago.csv\")"
      ],
      "execution_count": 0,
      "outputs": []
    },
    {
      "cell_type": "code",
      "metadata": {
        "id": "WbUN1y28ZPwG",
        "colab_type": "code",
        "outputId": "f0e5d312-82cf-41ac-8556-c2425bb2dbc1",
        "colab": {
          "base_uri": "https://localhost:8080/",
          "height": 52
        }
      },
      "source": [
        "chicago.REGION.unique()"
      ],
      "execution_count": 9,
      "outputs": [
        {
          "output_type": "execute_result",
          "data": {
            "text/plain": [
              "array(['Downtown Lakefront', 'Rogers Park - West Ridge',\n",
              "       'Irving Park-Avondale-North Ctr', 'Chicago Loop'], dtype=object)"
            ]
          },
          "metadata": {
            "tags": []
          },
          "execution_count": 9
        }
      ]
    },
    {
      "cell_type": "code",
      "metadata": {
        "id": "SDct7MnhBMx5",
        "colab_type": "code",
        "colab": {}
      },
      "source": [
        "l=['REGION','TIME','SPEED']\n",
        "df=chicago[l]"
      ],
      "execution_count": 0,
      "outputs": []
    },
    {
      "cell_type": "markdown",
      "metadata": {
        "id": "ZVocwGnhQeQb",
        "colab_type": "text"
      },
      "source": [
        "we chose to work on the 'chicago loop location"
      ]
    },
    {
      "cell_type": "code",
      "metadata": {
        "id": "TylV-OZpBfVa",
        "colab_type": "code",
        "outputId": "df8b1684-ec8f-4a83-97fc-f60f4446dcde",
        "colab": {
          "base_uri": "https://localhost:8080/",
          "height": 202
        }
      },
      "source": [
        "df1=df[df.REGION==\"Chicago Loop\"]\n",
        "df1.head()"
      ],
      "execution_count": 12,
      "outputs": [
        {
          "output_type": "execute_result",
          "data": {
            "text/html": [
              "<div>\n",
              "<style scoped>\n",
              "    .dataframe tbody tr th:only-of-type {\n",
              "        vertical-align: middle;\n",
              "    }\n",
              "\n",
              "    .dataframe tbody tr th {\n",
              "        vertical-align: top;\n",
              "    }\n",
              "\n",
              "    .dataframe thead th {\n",
              "        text-align: right;\n",
              "    }\n",
              "</style>\n",
              "<table border=\"1\" class=\"dataframe\">\n",
              "  <thead>\n",
              "    <tr style=\"text-align: right;\">\n",
              "      <th></th>\n",
              "      <th>REGION</th>\n",
              "      <th>TIME</th>\n",
              "      <th>SPEED</th>\n",
              "    </tr>\n",
              "  </thead>\n",
              "  <tbody>\n",
              "    <tr>\n",
              "      <th>3</th>\n",
              "      <td>Chicago Loop</td>\n",
              "      <td>05/23/2018 11:50:44 AM</td>\n",
              "      <td>15.00</td>\n",
              "    </tr>\n",
              "    <tr>\n",
              "      <th>10</th>\n",
              "      <td>Chicago Loop</td>\n",
              "      <td>03/14/2018 03:31:31 PM</td>\n",
              "      <td>13.64</td>\n",
              "    </tr>\n",
              "    <tr>\n",
              "      <th>15</th>\n",
              "      <td>Chicago Loop</td>\n",
              "      <td>03/13/2018 09:40:38 AM</td>\n",
              "      <td>12.95</td>\n",
              "    </tr>\n",
              "    <tr>\n",
              "      <th>17</th>\n",
              "      <td>Chicago Loop</td>\n",
              "      <td>03/13/2018 09:50:55 AM</td>\n",
              "      <td>14.32</td>\n",
              "    </tr>\n",
              "    <tr>\n",
              "      <th>21</th>\n",
              "      <td>Chicago Loop</td>\n",
              "      <td>03/13/2018 06:31:33 PM</td>\n",
              "      <td>12.27</td>\n",
              "    </tr>\n",
              "  </tbody>\n",
              "</table>\n",
              "</div>"
            ],
            "text/plain": [
              "          REGION                    TIME  SPEED\n",
              "3   Chicago Loop  05/23/2018 11:50:44 AM  15.00\n",
              "10  Chicago Loop  03/14/2018 03:31:31 PM  13.64\n",
              "15  Chicago Loop  03/13/2018 09:40:38 AM  12.95\n",
              "17  Chicago Loop  03/13/2018 09:50:55 AM  14.32\n",
              "21  Chicago Loop  03/13/2018 06:31:33 PM  12.27"
            ]
          },
          "metadata": {
            "tags": []
          },
          "execution_count": 12
        }
      ]
    },
    {
      "cell_type": "code",
      "metadata": {
        "id": "HM27yQk2DO89",
        "colab_type": "code",
        "colab": {}
      },
      "source": [
        "df1[\"TIME\"]=pd.to_datetime(df1[\"TIME\"], format=\"%m/%d/%Y %H:%M:%S %p\")"
      ],
      "execution_count": 0,
      "outputs": []
    },
    {
      "cell_type": "code",
      "metadata": {
        "id": "d8m8I_piD65N",
        "colab_type": "code",
        "colab": {}
      },
      "source": [
        "df1 = df1.sort_values(by=\"TIME\")\n",
        "\n",
        "df1=df1.drop('REGION',axis=1)"
      ],
      "execution_count": 0,
      "outputs": []
    },
    {
      "cell_type": "code",
      "metadata": {
        "id": "_734BTrKEp-_",
        "colab_type": "code",
        "colab": {}
      },
      "source": [
        "np.random.seed(7)"
      ],
      "execution_count": 0,
      "outputs": []
    },
    {
      "cell_type": "code",
      "metadata": {
        "id": "B9abrdmGFAC6",
        "colab_type": "code",
        "outputId": "c33a33cb-1076-4307-8595-56202c4739d7",
        "colab": {
          "base_uri": "https://localhost:8080/",
          "height": 34
        }
      },
      "source": [
        "# split into train and test sets\n",
        "train_size = int(len(df1) * 0.67)\n",
        "test_size = len(df1) - train_size\n",
        "train, test = df1[0:train_size], df1[train_size:len(df1)]\n",
        "print(len(train), len(test))"
      ],
      "execution_count": 16,
      "outputs": [
        {
          "output_type": "stream",
          "text": [
            "65916 32467\n"
          ],
          "name": "stdout"
        }
      ]
    },
    {
      "cell_type": "code",
      "metadata": {
        "id": "pGM94j3kFzKu",
        "colab_type": "code",
        "colab": {}
      },
      "source": [
        "df1.to_csv('new.csv', index=False)"
      ],
      "execution_count": 0,
      "outputs": []
    },
    {
      "cell_type": "code",
      "metadata": {
        "id": "CDZGushaIN0z",
        "colab_type": "code",
        "outputId": "7bbe6397-c158-499d-d76e-02e3ea343d4d",
        "colab": {
          "base_uri": "https://localhost:8080/",
          "height": 837
        }
      },
      "source": [
        "# LSTM for with window regression framing\n",
        "import numpy\n",
        "import matplotlib.pyplot as plt\n",
        "from pandas import read_csv\n",
        "import math\n",
        "from keras.models import Sequential\n",
        "from keras.layers import Dense\n",
        "from keras.layers import LSTM\n",
        "from sklearn.preprocessing import MinMaxScaler\n",
        "from sklearn.metrics import mean_squared_error\n",
        "# convert an array of values into a dataset matrix\n",
        "def create_dataset(dataset, look_back=1):\n",
        "\tdataX, dataY = [], []\n",
        "\tfor i in range(len(dataset)-look_back-1):\n",
        "\t\ta = dataset[i:(i+look_back), 0]\n",
        "\t\tdataX.append(a)\n",
        "\t\tdataY.append(dataset[i + look_back, 0])\n",
        "\treturn numpy.array(dataX), numpy.array(dataY)\n",
        "# fix random seed for reproducibility\n",
        "numpy.random.seed(7)\n",
        "# load the dataset\n",
        "dataframe = read_csv('new.csv', usecols=[1], engine='python')\n",
        "dataset = dataframe.values\n",
        "dataset = dataset.astype('float32')\n",
        "# normalize the dataset\n",
        "scaler = MinMaxScaler(feature_range=(0, 1))\n",
        "dataset = scaler.fit_transform(dataset)\n",
        "# split into train and test sets\n",
        "train_size = int(len(dataset) * 0.67)\n",
        "test_size = len(dataset) - train_size\n",
        "train, test = dataset[0:train_size,:], dataset[train_size:len(dataset),:]\n",
        "# reshape into X=t and Y=t+1\n",
        "look_back = 20\n",
        "trainX, trainY = create_dataset(train, look_back)\n",
        "testX, testY = create_dataset(test, look_back)\n",
        "# reshape input to be [samples, time steps, features]\n",
        "trainX = numpy.reshape(trainX, (trainX.shape[0], 1, trainX.shape[1]))\n",
        "testX = numpy.reshape(testX, (testX.shape[0], 1, testX.shape[1]))\n",
        "# create and fit the LSTM network\n",
        "model = Sequential()\n",
        "model.add(LSTM(4, input_shape=(1, look_back)))\n",
        "model.add(Dense(1))\n",
        "model.compile(loss='mean_squared_error', optimizer='adam')\n",
        "a = model.fit(trainX, trainY, validation_split=0.33, epochs=15, batch_size=256, verbose=2)\n",
        "# make predictions\n",
        "trainPredict = model.predict(trainX)\n",
        "testPredict = model.predict(testX)\n",
        "# invert predictions\n",
        "trainPredict = scaler.inverse_transform(trainPredict)\n",
        "trainY = scaler.inverse_transform([trainY])\n",
        "testPredict = scaler.inverse_transform(testPredict)\n",
        "testY = scaler.inverse_transform([testY])\n",
        "# calculate root mean squared error\n",
        "trainScore = math.sqrt(mean_squared_error(trainY[0], trainPredict[:,0]))\n",
        "print('Train Score: %.2f RMSE' % (trainScore))\n",
        "testScore = math.sqrt(mean_squared_error(testY[0], testPredict[:,0]))\n",
        "print('Test Score: %.2f RMSE' % (testScore))\n",
        "# shift train predictions for plotting\n",
        "trainPredictPlot = numpy.empty_like(dataset)\n",
        "trainPredictPlot[:, :] = numpy.nan\n",
        "trainPredictPlot[look_back:len(trainPredict)+look_back, :] = trainPredict\n",
        "# shift test predictions for plotting\n",
        "testPredictPlot = numpy.empty_like(dataset)\n",
        "testPredictPlot[:, :] = numpy.nan\n",
        "testPredictPlot[len(trainPredict)+(look_back*2)+1:len(dataset)-1, :] = testPredict\n",
        "# plot baseline and predictions\n",
        "plt.plot(scaler.inverse_transform(dataset))\n",
        "plt.plot(trainPredictPlot)\n",
        "plt.plot(testPredictPlot)\n",
        "plt.show()"
      ],
      "execution_count": 20,
      "outputs": [
        {
          "output_type": "stream",
          "text": [
            "Train on 44149 samples, validate on 21746 samples\n",
            "Epoch 1/15\n",
            " - 1s - loss: 0.0621 - val_loss: 0.0069\n",
            "Epoch 2/15\n",
            " - 0s - loss: 0.0062 - val_loss: 0.0063\n",
            "Epoch 3/15\n",
            " - 0s - loss: 0.0052 - val_loss: 0.0057\n",
            "Epoch 4/15\n",
            " - 0s - loss: 0.0046 - val_loss: 0.0055\n",
            "Epoch 5/15\n",
            " - 0s - loss: 0.0044 - val_loss: 0.0053\n",
            "Epoch 6/15\n",
            " - 0s - loss: 0.0042 - val_loss: 0.0051\n",
            "Epoch 7/15\n",
            " - 0s - loss: 0.0041 - val_loss: 0.0050\n",
            "Epoch 8/15\n",
            " - 0s - loss: 0.0040 - val_loss: 0.0048\n",
            "Epoch 9/15\n",
            " - 0s - loss: 0.0039 - val_loss: 0.0047\n",
            "Epoch 10/15\n",
            " - 0s - loss: 0.0038 - val_loss: 0.0046\n",
            "Epoch 11/15\n",
            " - 0s - loss: 0.0038 - val_loss: 0.0045\n",
            "Epoch 12/15\n",
            " - 0s - loss: 0.0037 - val_loss: 0.0045\n",
            "Epoch 13/15\n",
            " - 0s - loss: 0.0037 - val_loss: 0.0044\n",
            "Epoch 14/15\n",
            " - 0s - loss: 0.0037 - val_loss: 0.0044\n",
            "Epoch 15/15\n",
            " - 0s - loss: 0.0036 - val_loss: 0.0043\n",
            "Train Score: 3.81 RMSE\n",
            "Test Score: 4.00 RMSE\n"
          ],
          "name": "stdout"
        },
        {
          "output_type": "display_data",
          "data": {
            "image/png": "[encoded data removed]",
            "text/plain": [
              "<Figure size 432x288 with 1 Axes>"
            ]
          },
          "metadata": {
            "tags": [],
            "needs_background": "light"
          }
        }
      ]
    },
    {
      "cell_type": "code",
      "metadata": {
        "id": "u4mrbsZ8fCMN",
        "colab_type": "code",
        "outputId": "7a3fe568-410b-46ac-cd4c-8ba4919b72e4",
        "colab": {
          "base_uri": "https://localhost:8080/",
          "height": 294
        }
      },
      "source": [
        "plt.plot(a.history['loss'])\n",
        "plt.plot(a.history['val_loss'])\n",
        "plt.title('model loss')\n",
        "plt.ylabel('loss')\n",
        "plt.xlabel('epoch')\n",
        "plt.legend(['train', 'test'], loc='upper left')\n",
        "plt.show()\n"
      ],
      "execution_count": 21,
      "outputs": [
        {
          "output_type": "display_data",
          "data": {
            "image/png": "[encoded data removed]",
            "text/plain": [
              "<Figure size 432x288 with 1 Axes>"
            ]
          },
          "metadata": {
            "tags": [],
            "needs_background": "light"
          }
        }
      ]
    },
    {
      "cell_type": "code",
      "metadata": {
        "id": "YUGiYzCiRbGo",
        "colab_type": "code",
        "colab": {}
      },
      "source": [
        ""
      ],
      "execution_count": 0,
      "outputs": []
    }
  ]
}